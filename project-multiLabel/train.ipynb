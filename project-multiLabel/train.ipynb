{
 "cells": [
  {
   "cell_type": "markdown",
   "id": "d97a43be",
   "metadata": {},
   "source": [
    "## Loading Neccessary Libraries"
   ]
  },
  {
   "cell_type": "code",
   "execution_count": 1,
   "id": "f9214311",
   "metadata": {},
   "outputs": [],
   "source": [
    "import numpy as np\n",
    "import pandas as pd\n",
    "from sklearn.preprocessing import MultiLabelBinarizer\n",
    "from nltk.corpus import stopwords \n",
    "from skmultilearn.problem_transform import BinaryRelevance\n",
    "from sklearn.pipeline import make_pipeline\n",
    "from sklearn.feature_extraction.text import CountVectorizer,TfidfTransformer,TfidfVectorizer\n",
    "from sklearn.multiclass import OneVsRestClassifier\n",
    "from sklearn.linear_model import LogisticRegression,SGDClassifier\n",
    "from sklearn.model_selection import train_test_split\n",
    "from sklearn.ensemble import RandomForestClassifier\n",
    "from sklearn.utils import shuffle\n",
    "from sklearn.naive_bayes import GaussianNB,MultinomialNB\n",
    "from sklearn.feature_selection import SelectKBest, chi2\n",
    "import re,joblib\n",
    "from skmultilearn.problem_transform import LabelPowerset"
   ]
  },
  {
   "cell_type": "code",
   "execution_count": 2,
   "id": "789bb5ab",
   "metadata": {},
   "outputs": [],
   "source": [
    "lb = MultiLabelBinarizer()\n",
    "sw = stopwords.words(\"english\")"
   ]
  },
  {
   "cell_type": "code",
   "execution_count": 3,
   "id": "65391356",
   "metadata": {},
   "outputs": [],
   "source": [
    "#Function to convert the txt data to array\n",
    "\n",
    "def load_txt(filename):\n",
    "    data = []\n",
    "    with open(filename,'r') as f:\n",
    "        file_data = f.readlines()\n",
    "        for i in file_data:\n",
    "            data.append(i.rstrip())\n",
    "    return data"
   ]
  },
  {
   "cell_type": "code",
   "execution_count": 4,
   "id": "cdc08aeb",
   "metadata": {},
   "outputs": [],
   "source": [
    "train = np.array(load_txt(\"data_x.txt\"))"
   ]
  },
  {
   "cell_type": "code",
   "execution_count": 5,
   "id": "6732fdba",
   "metadata": {},
   "outputs": [],
   "source": [
    "targets = [\n",
    "    [\"Viral Bronchitis\"],\n",
    "    [\"Viral Bronchitis\"],\n",
    "    [\"Viral Bronchitis\"],\n",
    "    \n",
    "    \n",
    "    [\"Bacterial Pneumonia\",\"Asthma\",\"Chronic Heart Failure\",\"Chronic Lung Disease\"],\n",
    "    [\"Bacterial Pneumonia\",\"Asthma\",\"Chronic Heart Failure\",\"Chronic Lung Disease\"],\n",
    "    [\"Bacterial Pneumonia\",\"Asthma\",\"Chronic Heart Failure\",\"Chronic Lung Disease\"],\n",
    "    \n",
    "    \n",
    "    [\"Bacterial Pneumonia\",\"Chronic Lung Disease\"],\n",
    "    [\"Bacterial Pneumonia\",\"Chronic Lung Disease\"],\n",
    "    [\"Bacterial Pneumonia\",\"Chronic Lung Disease\"],\n",
    "    \n",
    "    \n",
    "    [\"Bacterial Pneumonia\",\"Chronic Lung Disease\",\"Lung Cancer\"],\n",
    "    [\"Bacterial Pneumonia\",\"Chronic Lung Disease\",\"Lung Cancer\"],\n",
    "    [\"Bacterial Pneumonia\",\"Chronic Lung Disease\",\"Lung Cancer\"],\n",
    "    \n",
    "    \n",
    "    [\"Viral Bronchitis\"],\n",
    "    [\"Viral Bronchitis\"],\n",
    "    [\"Viral Bronchitis\"],\n",
    "    \n",
    "    \n",
    "    [\"Asthma\"],\n",
    "    [\"Asthma\"],\n",
    "    [\"Asthma\"],\n",
    "    \n",
    "    \n",
    "    [\"Chronic Heart Failure\",\"Chronic Lung Disease\"],\n",
    "    [\"Chronic Heart Failure\",\"Chronic Lung Disease\"],\n",
    "    [\"Chronic Heart Failure\",\"Chronic Lung Disease\"],\n",
    "    \n",
    "    \n",
    "    [\"Viral Bronchitis\",\"Bacterial Pneumonia\"],\n",
    "    [\"Viral Bronchitis\",\"Bacterial Pneumonia\"],\n",
    "    [\"Viral Bronchitis\",\"Bacterial Pneumonia\"],\n",
    "    \n",
    "    \n",
    "    [\"Viral Bronchitis\",\"Asthma\"],\n",
    "    [\"Viral Bronchitis\",\"Asthma\"],\n",
    "    [\"Viral Bronchitis\",\"Asthma\"],\n",
    "    \n",
    "    [\"Asthma\",\"Chronic Lung Disease\"],\n",
    "    [\"Asthma\",\"Chronic Lung Disease\"],\n",
    "    [\"Asthma\",\"Chronic Lung Disease\"],\n",
    "    \n",
    "    [\"Bacterial Pneumonia\"],\n",
    "    [\"Bacterial Pneumonia\"],\n",
    "    [\"Bacterial Pneumonia\"],\n",
    "    \n",
    "    \n",
    "    [\"Chronic Heart Failure\",\"Chronic Lung Disease\"],\n",
    "    [\"Chronic Heart Failure\",\"Chronic Lung Disease\"],\n",
    "    [\"Chronic Heart Failure\",\"Chronic Lung Disease\"],\n",
    "    \n",
    "    \n",
    "    [\"Viral Bronchitis\"],\n",
    "    [\"Viral Bronchitis\"],\n",
    "    [\"Viral Bronchitis\"],\n",
    "    \n",
    "    \n",
    "    [\"Lung Cancer\"],\n",
    "    [\"Lung Cancer\"],\n",
    "    [\"Lung Cancer\"],\n",
    "    \n",
    "    \n",
    "    [\"Chronic Lung Disease\"],\n",
    "    [\"Chronic Lung Disease\"],\n",
    "    [\"Chronic Lung Disease\"],\n",
    "\n",
    "\n",
    "    \n",
    "    \n",
    "]\n",
    "\n",
    "\n"
   ]
  },
  {
   "cell_type": "code",
   "execution_count": 6,
   "id": "5098285a",
   "metadata": {},
   "outputs": [],
   "source": [
    "df  = pd.DataFrame({\"data\":train,\"target\":targets})\n",
    "df  = shuffle(df).reset_index(drop=True)\n"
   ]
  },
  {
   "cell_type": "code",
   "execution_count": 7,
   "id": "924ce46a",
   "metadata": {},
   "outputs": [
    {
     "data": {
      "text/html": [
       "<div>\n",
       "<style scoped>\n",
       "    .dataframe tbody tr th:only-of-type {\n",
       "        vertical-align: middle;\n",
       "    }\n",
       "\n",
       "    .dataframe tbody tr th {\n",
       "        vertical-align: top;\n",
       "    }\n",
       "\n",
       "    .dataframe thead th {\n",
       "        text-align: right;\n",
       "    }\n",
       "</style>\n",
       "<table border=\"1\" class=\"dataframe\">\n",
       "  <thead>\n",
       "    <tr style=\"text-align: right;\">\n",
       "      <th></th>\n",
       "      <th>data</th>\n",
       "      <th>target</th>\n",
       "    </tr>\n",
       "  </thead>\n",
       "  <tbody>\n",
       "    <tr>\n",
       "      <th>0</th>\n",
       "      <td>Do you have an aching throat, runny nose and s...</td>\n",
       "      <td>[Viral Bronchitis]</td>\n",
       "    </tr>\n",
       "    <tr>\n",
       "      <th>1</th>\n",
       "      <td>Are you breathing more quickly than you normal...</td>\n",
       "      <td>[Viral Bronchitis, Asthma]</td>\n",
       "    </tr>\n",
       "    <tr>\n",
       "      <th>2</th>\n",
       "      <td>Is it difficult to swallow?</td>\n",
       "      <td>[Viral Bronchitis]</td>\n",
       "    </tr>\n",
       "    <tr>\n",
       "      <th>3</th>\n",
       "      <td>Does the chest hurt?</td>\n",
       "      <td>[Chronic Heart Failure, Chronic Lung Disease]</td>\n",
       "    </tr>\n",
       "    <tr>\n",
       "      <th>4</th>\n",
       "      <td>Do you have any chest pain?</td>\n",
       "      <td>[Chronic Heart Failure, Chronic Lung Disease]</td>\n",
       "    </tr>\n",
       "  </tbody>\n",
       "</table>\n",
       "</div>"
      ],
      "text/plain": [
       "                                                data  \\\n",
       "0  Do you have an aching throat, runny nose and s...   \n",
       "1  Are you breathing more quickly than you normal...   \n",
       "2                        Is it difficult to swallow?   \n",
       "3                               Does the chest hurt?   \n",
       "4                        Do you have any chest pain?   \n",
       "\n",
       "                                          target  \n",
       "0                             [Viral Bronchitis]  \n",
       "1                     [Viral Bronchitis, Asthma]  \n",
       "2                             [Viral Bronchitis]  \n",
       "3  [Chronic Heart Failure, Chronic Lung Disease]  \n",
       "4  [Chronic Heart Failure, Chronic Lung Disease]  "
      ]
     },
     "execution_count": 7,
     "metadata": {},
     "output_type": "execute_result"
    }
   ],
   "source": [
    "df.head()"
   ]
  },
  {
   "cell_type": "code",
   "execution_count": 8,
   "id": "fae9121c",
   "metadata": {},
   "outputs": [],
   "source": [
    "x_train,x_test,y_train,y_test =  train_test_split(df['data'],df['target'],test_size=0.2,random_state=42)"
   ]
  },
  {
   "cell_type": "code",
   "execution_count": 9,
   "id": "c62343e2",
   "metadata": {},
   "outputs": [],
   "source": [
    "Y= lb.fit_transform(y_train)\n",
    "Y_test  =  lb.transform(y_test)"
   ]
  },
  {
   "cell_type": "code",
   "execution_count": 10,
   "id": "1c81fb5e",
   "metadata": {},
   "outputs": [
    {
     "data": {
      "text/plain": [
       "['lb.pkl']"
      ]
     },
     "execution_count": 10,
     "metadata": {},
     "output_type": "execute_result"
    }
   ],
   "source": [
    "import joblib \n",
    "joblib.dump(lb,\"lb.pkl\")"
   ]
  },
  {
   "cell_type": "code",
   "execution_count": 11,
   "id": "e1afbb12",
   "metadata": {},
   "outputs": [
    {
     "data": {
      "text/plain": [
       "39                   Is there any difficulty breathing?\n",
       "25                     Have you any trouble swallowing?\n",
       "26                            It's been over two weeks.\n",
       "43    Have you recovered from COVID-19 in the past s...\n",
       "35                        Are you allergic to anything?\n",
       "41                                   Less than 2 weeks.\n",
       "4                           Do you have any chest pain?\n",
       "12    Your pulse (heart rate) accelerates more rapid...\n",
       "8     Are you easily short of breath during activiti...\n",
       "Name: data, dtype: object"
      ]
     },
     "execution_count": 11,
     "metadata": {},
     "output_type": "execute_result"
    }
   ],
   "source": [
    "x_test"
   ]
  },
  {
   "cell_type": "code",
   "execution_count": 20,
   "id": "5d4cc32a",
   "metadata": {},
   "outputs": [],
   "source": [
    "#clf  = make_pipeline(CountVectorizer(),TfidfTransformer(),BinaryRelevance(GaussianNB()))\n",
    "clf  =  joblib.load(\"model.pkl\")"
   ]
  },
  {
   "cell_type": "code",
   "execution_count": 13,
   "id": "aa800875",
   "metadata": {},
   "outputs": [
    {
     "data": {
      "text/plain": [
       "Pipeline(steps=[('countvectorizer', CountVectorizer()),\n",
       "                ('tfidftransformer', TfidfTransformer()),\n",
       "                ('binaryrelevance',\n",
       "                 BinaryRelevance(classifier=GaussianNB(),\n",
       "                                 require_dense=[True, True]))])"
      ]
     },
     "execution_count": 13,
     "metadata": {},
     "output_type": "execute_result"
    }
   ],
   "source": [
    "clf.fit(x_train,Y)"
   ]
  },
  {
   "cell_type": "code",
   "execution_count": 21,
   "id": "1822ee5e",
   "metadata": {},
   "outputs": [
    {
     "data": {
      "text/plain": [
       "1.0"
      ]
     },
     "execution_count": 21,
     "metadata": {},
     "output_type": "execute_result"
    }
   ],
   "source": [
    "clf.score(x_test,Y_test)"
   ]
  },
  {
   "cell_type": "code",
   "execution_count": 22,
   "id": "e2139fdd",
   "metadata": {},
   "outputs": [
    {
     "data": {
      "text/plain": [
       "[('Chronic Heart Failure', 'Chronic Lung Disease'),\n",
       " ('Viral Bronchitis',),\n",
       " ('Asthma',\n",
       "  'Bacterial Pneumonia',\n",
       "  'Chronic Heart Failure',\n",
       "  'Chronic Lung Disease'),\n",
       " ('Asthma', 'Chronic Lung Disease'),\n",
       " ('Asthma',),\n",
       " ('Viral Bronchitis',),\n",
       " ('Chronic Heart Failure', 'Chronic Lung Disease'),\n",
       " ('Bacterial Pneumonia',),\n",
       " ('Chronic Lung Disease',)]"
      ]
     },
     "execution_count": 22,
     "metadata": {},
     "output_type": "execute_result"
    }
   ],
   "source": [
    "lb.inverse_transform(clf.predict(x_test))"
   ]
  },
  {
   "cell_type": "code",
   "execution_count": 23,
   "id": "ece29d12",
   "metadata": {},
   "outputs": [
    {
     "data": {
      "text/plain": [
       "39        [Chronic Heart Failure, Chronic Lung Disease]\n",
       "25                                   [Viral Bronchitis]\n",
       "26    [Bacterial Pneumonia, Asthma, Chronic Heart Fa...\n",
       "43                       [Asthma, Chronic Lung Disease]\n",
       "35                                             [Asthma]\n",
       "41                                   [Viral Bronchitis]\n",
       "4         [Chronic Heart Failure, Chronic Lung Disease]\n",
       "12                                [Bacterial Pneumonia]\n",
       "8                                [Chronic Lung Disease]\n",
       "Name: target, dtype: object"
      ]
     },
     "execution_count": 23,
     "metadata": {},
     "output_type": "execute_result"
    }
   ],
   "source": [
    "y_test"
   ]
  },
  {
   "cell_type": "code",
   "execution_count": 17,
   "id": "1edcfdd7",
   "metadata": {},
   "outputs": [],
   "source": [
    "sample  = x_test[4]\n"
   ]
  },
  {
   "cell_type": "code",
   "execution_count": 18,
   "id": "c2819ed3",
   "metadata": {},
   "outputs": [
    {
     "data": {
      "text/plain": [
       "[('Asthma',)]"
      ]
     },
     "execution_count": 18,
     "metadata": {},
     "output_type": "execute_result"
    }
   ],
   "source": [
    "lb.inverse_transform(clf.predict([sample]).toarray())"
   ]
  },
  {
   "cell_type": "code",
   "execution_count": 19,
   "id": "8bbdbd2f",
   "metadata": {},
   "outputs": [
    {
     "data": {
      "text/plain": [
       "['Chronic Heart Failure', 'Chronic Lung Disease']"
      ]
     },
     "execution_count": 19,
     "metadata": {},
     "output_type": "execute_result"
    }
   ],
   "source": [
    "(y_test[4])"
   ]
  },
  {
   "cell_type": "code",
   "execution_count": null,
   "id": "c96f36e4",
   "metadata": {},
   "outputs": [],
   "source": []
  },
  {
   "cell_type": "code",
   "execution_count": null,
   "id": "d2dfe553",
   "metadata": {},
   "outputs": [],
   "source": []
  }
 ],
 "metadata": {
  "kernelspec": {
   "display_name": "Python 3 (ipykernel)",
   "language": "python",
   "name": "python3"
  },
  "language_info": {
   "codemirror_mode": {
    "name": "ipython",
    "version": 3
   },
   "file_extension": ".py",
   "mimetype": "text/x-python",
   "name": "python",
   "nbconvert_exporter": "python",
   "pygments_lexer": "ipython3",
   "version": "3.7.9"
  }
 },
 "nbformat": 4,
 "nbformat_minor": 5
}
