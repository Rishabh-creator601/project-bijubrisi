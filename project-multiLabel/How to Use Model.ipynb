{
 "cells": [
  {
   "cell_type": "code",
   "execution_count": 1,
   "id": "ee6e4507",
   "metadata": {},
   "outputs": [],
   "source": [
    "import joblib  # JUST IMPORT JOBLIB "
   ]
  },
  {
   "cell_type": "code",
   "execution_count": 2,
   "id": "9a641bf2",
   "metadata": {},
   "outputs": [],
   "source": [
    "model = joblib.load(\"_model_.pkl\")\n",
    "lb = joblib.load(\"lb.pkl\")   # IMPORT MODEL AND LABEL BINARIZER"
   ]
  },
  {
   "cell_type": "code",
   "execution_count": 3,
   "id": "8cd0a749",
   "metadata": {},
   "outputs": [],
   "source": [
    "def make_prediction(sample):\n",
    "    return lb.inverse_transform(model.predict([sample]).toarray()) # FUNCTION FOR EASE"
   ]
  },
  {
   "cell_type": "code",
   "execution_count": 5,
   "id": "70b00d78",
   "metadata": {},
   "outputs": [
    {
     "data": {
      "text/plain": [
       "[('Bacterial Pneumonia', 'Viral Bronchitis')]"
      ]
     },
     "execution_count": 5,
     "metadata": {},
     "output_type": "execute_result"
    }
   ],
   "source": [
    "sample = \"Are you breathing loudly while breathing?\"\n",
    "\n",
    "make_prediction(sample)   # MAKE PREDICTIONS "
   ]
  },
  {
   "cell_type": "code",
   "execution_count": 27,
   "id": "32091761",
   "metadata": {},
   "outputs": [
    {
     "data": {
      "text/plain": [
       "[('Bacterial Pneumonia', 'Chronic Lung Disease')]"
      ]
     },
     "execution_count": 27,
     "metadata": {},
     "output_type": "execute_result"
    }
   ],
   "source": [
    "sample2  = \"Are you coughing up mucus?\"\n",
    "\n",
    "make_prediction(sample2)"
   ]
  },
  {
   "cell_type": "code",
   "execution_count": 28,
   "id": "82e0cc17",
   "metadata": {},
   "outputs": [
    {
     "data": {
      "text/plain": [
       "[('Asthma',)]"
      ]
     },
     "execution_count": 28,
     "metadata": {},
     "output_type": "execute_result"
    }
   ],
   "source": [
    "sample3  = \"Do you have any allergies?\"\n",
    "make_prediction(sample3)"
   ]
  },
  {
   "cell_type": "code",
   "execution_count": 9,
   "id": "6ffa1a00",
   "metadata": {},
   "outputs": [],
   "source": [
    "######################################################################################################\n",
    "\n",
    "#################### THANKING YOU ##################################\n",
    "\n",
    "#Rishabh !"
   ]
  },
  {
   "cell_type": "code",
   "execution_count": 29,
   "id": "6816fa98",
   "metadata": {},
   "outputs": [],
   "source": [
    "!pip freeze > requirements.txt"
   ]
  },
  {
   "cell_type": "code",
   "execution_count": null,
   "id": "ebbf5115",
   "metadata": {},
   "outputs": [],
   "source": []
  }
 ],
 "metadata": {
  "kernelspec": {
   "display_name": "Python 3 (ipykernel)",
   "language": "python",
   "name": "python3"
  },
  "language_info": {
   "codemirror_mode": {
    "name": "ipython",
    "version": 3
   },
   "file_extension": ".py",
   "mimetype": "text/x-python",
   "name": "python",
   "nbconvert_exporter": "python",
   "pygments_lexer": "ipython3",
   "version": "3.7.9"
  }
 },
 "nbformat": 4,
 "nbformat_minor": 5
}
