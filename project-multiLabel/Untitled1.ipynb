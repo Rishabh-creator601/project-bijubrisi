{
 "cells": [
  {
   "cell_type": "code",
   "execution_count": 45,
   "id": "b5c8ef07",
   "metadata": {},
   "outputs": [],
   "source": [
    "import pandas as pd\n",
    "from sklearn.preprocessing import MultiLabelBinarizer\n",
    "import numpy as np"
   ]
  },
  {
   "cell_type": "code",
   "execution_count": 69,
   "id": "7cb8893d",
   "metadata": {},
   "outputs": [],
   "source": [
    "def load_txt(filename):\n",
    "    data = []\n",
    "    with open(filename,'r') as f:\n",
    "        file_data = f.readlines()\n",
    "        for i in file_data:\n",
    "            data.append(i.rstrip())\n",
    "    return data"
   ]
  },
  {
   "cell_type": "code",
   "execution_count": 74,
   "id": "f40cac6a",
   "metadata": {},
   "outputs": [],
   "source": [
    "train = np.array(load_txt(\"data_x.txt\"))"
   ]
  },
  {
   "cell_type": "code",
   "execution_count": 75,
   "id": "58528299",
   "metadata": {},
   "outputs": [
    {
     "data": {
      "text/plain": [
       "45"
      ]
     },
     "execution_count": 75,
     "metadata": {},
     "output_type": "execute_result"
    }
   ],
   "source": [
    "len(train)"
   ]
  },
  {
   "cell_type": "code",
   "execution_count": null,
   "id": "6c3b1612",
   "metadata": {},
   "outputs": [],
   "source": []
  }
 ],
 "metadata": {
  "kernelspec": {
   "display_name": "Python 3 (ipykernel)",
   "language": "python",
   "name": "python3"
  },
  "language_info": {
   "codemirror_mode": {
    "name": "ipython",
    "version": 3
   },
   "file_extension": ".py",
   "mimetype": "text/x-python",
   "name": "python",
   "nbconvert_exporter": "python",
   "pygments_lexer": "ipython3",
   "version": "3.7.9"
  }
 },
 "nbformat": 4,
 "nbformat_minor": 5
}
