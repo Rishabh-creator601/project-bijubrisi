{
 "cells": [
  {
   "cell_type": "markdown",
   "id": "d97a43be",
   "metadata": {},
   "source": [
    "## Loading Neccessary Libraries"
   ]
  },
  {
   "cell_type": "code",
   "execution_count": 1,
   "id": "f9214311",
   "metadata": {},
   "outputs": [],
   "source": [
    "import numpy as np\n",
    "import pandas as pd\n",
    "from sklearn.preprocessing import MultiLabelBinarizer\n",
    "from nltk.corpus import stopwords \n",
    "from skmultilearn.problem_transform import BinaryRelevance\n",
    "from sklearn.pipeline import make_pipeline\n",
    "from sklearn.feature_extraction.text import CountVectorizer,TfidfTransformer,TfidfVectorizer\n",
    "from sklearn.multiclass import OneVsRestClassifier\n",
    "from sklearn.linear_model import LogisticRegression,SGDClassifier\n",
    "from sklearn.model_selection import train_test_split\n",
    "from sklearn.ensemble import RandomForestClassifier\n",
    "from sklearn.utils import shuffle\n",
    "from sklearn.naive_bayes import GaussianNB,MultinomialNB\n",
    "from sklearn.feature_selection import SelectKBest, chi2\n",
    "import re,joblib\n",
    "from skmultilearn.problem_transform import LabelPowerset"
   ]
  },
  {
   "cell_type": "code",
   "execution_count": 2,
   "id": "789bb5ab",
   "metadata": {},
   "outputs": [],
   "source": [
    "lb = MultiLabelBinarizer()\n",
    "sw = stopwords.words(\"english\")"
   ]
  },
  {
   "cell_type": "code",
   "execution_count": 3,
   "id": "65391356",
   "metadata": {},
   "outputs": [],
   "source": [
    "#Function to convert the txt data to array\n",
    "\n",
    "def load_txt(filename):\n",
    "    data = []\n",
    "    with open(filename,'r') as f:\n",
    "        file_data = f.readlines()\n",
    "        for i in file_data:\n",
    "            data.append(i.rstrip())\n",
    "    return data"
   ]
  },
  {
   "cell_type": "code",
   "execution_count": 4,
   "id": "cdc08aeb",
   "metadata": {},
   "outputs": [],
   "source": [
    "train = np.array(load_txt(\"data_x.txt\"))"
   ]
  },
  {
   "cell_type": "code",
   "execution_count": 5,
   "id": "6732fdba",
   "metadata": {},
   "outputs": [],
   "source": [
    "targets = [\n",
    "    [\"Viral Bronchitis\"],\n",
    "    [\"Viral Bronchitis\"],\n",
    "    [\"Viral Bronchitis\"],\n",
    "    \n",
    "    \n",
    "    [\"Bacterial Pneumonia\",\"Asthma\",\"Chronic Heart Failure\",\"Chronic Lung Disease\"],\n",
    "    [\"Bacterial Pneumonia\",\"Asthma\",\"Chronic Heart Failure\",\"Chronic Lung Disease\"],\n",
    "    [\"Bacterial Pneumonia\",\"Asthma\",\"Chronic Heart Failure\",\"Chronic Lung Disease\"],\n",
    "    \n",
    "    \n",
    "    [\"Bacterial Pneumonia\",\"Chronic Lung Disease\"],\n",
    "    [\"Bacterial Pneumonia\",\"Chronic Lung Disease\"],\n",
    "    [\"Bacterial Pneumonia\",\"Chronic Lung Disease\"],\n",
    "    \n",
    "    \n",
    "    [\"Bacterial Pneumonia\",\"Chronic Lung Disease\",\"Lung Cancer\"],\n",
    "    [\"Bacterial Pneumonia\",\"Chronic Lung Disease\",\"Lung Cancer\"],\n",
    "    [\"Bacterial Pneumonia\",\"Chronic Lung Disease\",\"Lung Cancer\"],\n",
    "    \n",
    "    \n",
    "    [\"Viral Bronchitis\"],\n",
    "    [\"Viral Bronchitis\"],\n",
    "    [\"Viral Bronchitis\"],\n",
    "    \n",
    "    \n",
    "    [\"Asthma\"],\n",
    "    [\"Asthma\"],\n",
    "    [\"Asthma\"],\n",
    "    \n",
    "    \n",
    "    [\"Chronic Heart Failure\",\"Chronic Lung Disease\"],\n",
    "    [\"Chronic Heart Failure\",\"Chronic Lung Disease\"],\n",
    "    [\"Chronic Heart Failure\",\"Chronic Lung Disease\"],\n",
    "    \n",
    "    \n",
    "    [\"Viral Bronchitis\",\"Bacterial Pneumonia\"],\n",
    "    [\"Viral Bronchitis\",\"Bacterial Pneumonia\"],\n",
    "    [\"Viral Bronchitis\",\"Bacterial Pneumonia\"],\n",
    "    \n",
    "    \n",
    "    [\"Viral Bronchitis\",\"Asthma\"],\n",
    "    [\"Viral Bronchitis\",\"Asthma\"],\n",
    "    [\"Viral Bronchitis\",\"Asthma\"],\n",
    "    \n",
    "    [\"Asthma\",\"Chronic Lung Disease\"],\n",
    "    [\"Asthma\",\"Chronic Lung Disease\"],\n",
    "    [\"Asthma\",\"Chronic Lung Disease\"],\n",
    "    \n",
    "    [\"Bacterial Pneumonia\"],\n",
    "    [\"Bacterial Pneumonia\"],\n",
    "    [\"Bacterial Pneumonia\"],\n",
    "    \n",
    "    \n",
    "    [\"Chronic Heart Failure\",\"Chronic Lung Disease\"],\n",
    "    [\"Chronic Heart Failure\",\"Chronic Lung Disease\"],\n",
    "    [\"Chronic Heart Failure\",\"Chronic Lung Disease\"],\n",
    "    \n",
    "    \n",
    "    [\"Viral Bronchitis\"],\n",
    "    [\"Viral Bronchitis\"],\n",
    "    [\"Viral Bronchitis\"],\n",
    "    \n",
    "    \n",
    "    [\"Lung Cancer\"],\n",
    "    [\"Lung Cancer\"],\n",
    "    [\"Lung Cancer\"],\n",
    "    \n",
    "    \n",
    "    [\"Chronic Lung Disease\"],\n",
    "    [\"Chronic Lung Disease\"],\n",
    "    [\"Chronic Lung Disease\"],\n",
    "\n",
    "\n",
    "    \n",
    "    \n",
    "]\n",
    "\n",
    "\n"
   ]
  },
  {
   "cell_type": "code",
   "execution_count": 6,
   "id": "5098285a",
   "metadata": {},
   "outputs": [],
   "source": [
    "df  = pd.DataFrame({\"data\":train,\"target\":targets})\n",
    "df  = shuffle(df).reset_index(drop=True)\n"
   ]
  },
  {
   "cell_type": "code",
   "execution_count": 7,
   "id": "924ce46a",
   "metadata": {},
   "outputs": [
    {
     "data": {
      "text/html": [
       "<div>\n",
       "<style scoped>\n",
       "    .dataframe tbody tr th:only-of-type {\n",
       "        vertical-align: middle;\n",
       "    }\n",
       "\n",
       "    .dataframe tbody tr th {\n",
       "        vertical-align: top;\n",
       "    }\n",
       "\n",
       "    .dataframe thead th {\n",
       "        text-align: right;\n",
       "    }\n",
       "</style>\n",
       "<table border=\"1\" class=\"dataframe\">\n",
       "  <thead>\n",
       "    <tr style=\"text-align: right;\">\n",
       "      <th></th>\n",
       "      <th>data</th>\n",
       "      <th>target</th>\n",
       "    </tr>\n",
       "  </thead>\n",
       "  <tbody>\n",
       "    <tr>\n",
       "      <th>0</th>\n",
       "      <td>Do you breathe quicker than usual?</td>\n",
       "      <td>[Viral Bronchitis, Asthma]</td>\n",
       "    </tr>\n",
       "    <tr>\n",
       "      <th>1</th>\n",
       "      <td>Do you have noisy breathing when you breathe?</td>\n",
       "      <td>[Viral Bronchitis, Bacterial Pneumonia]</td>\n",
       "    </tr>\n",
       "    <tr>\n",
       "      <th>2</th>\n",
       "      <td>Do you breathe noisily when you breathe?</td>\n",
       "      <td>[Viral Bronchitis, Bacterial Pneumonia]</td>\n",
       "    </tr>\n",
       "    <tr>\n",
       "      <th>3</th>\n",
       "      <td>Do you easily get breathless during activities...</td>\n",
       "      <td>[Chronic Lung Disease]</td>\n",
       "    </tr>\n",
       "    <tr>\n",
       "      <th>4</th>\n",
       "      <td>Do you have any allergies?</td>\n",
       "      <td>[Asthma]</td>\n",
       "    </tr>\n",
       "  </tbody>\n",
       "</table>\n",
       "</div>"
      ],
      "text/plain": [
       "                                                data  \\\n",
       "0                 Do you breathe quicker than usual?   \n",
       "1      Do you have noisy breathing when you breathe?   \n",
       "2           Do you breathe noisily when you breathe?   \n",
       "3  Do you easily get breathless during activities...   \n",
       "4                         Do you have any allergies?   \n",
       "\n",
       "                                    target  \n",
       "0               [Viral Bronchitis, Asthma]  \n",
       "1  [Viral Bronchitis, Bacterial Pneumonia]  \n",
       "2  [Viral Bronchitis, Bacterial Pneumonia]  \n",
       "3                   [Chronic Lung Disease]  \n",
       "4                                 [Asthma]  "
      ]
     },
     "execution_count": 7,
     "metadata": {},
     "output_type": "execute_result"
    }
   ],
   "source": [
    "df.head()"
   ]
  },
  {
   "cell_type": "code",
   "execution_count": 9,
   "id": "fae9121c",
   "metadata": {},
   "outputs": [],
   "source": [
    "x_train,x_test,y_train,y_test =  train_test_split(df['data'],df['target'],test_size=0.2,random_state=42)"
   ]
  },
  {
   "cell_type": "code",
   "execution_count": 10,
   "id": "c62343e2",
   "metadata": {},
   "outputs": [],
   "source": [
    "Y= lb.fit_transform(y_train)\n",
    "Y_test  =  lb.transform(y_test)"
   ]
  },
  {
   "cell_type": "code",
   "execution_count": 11,
   "id": "1c81fb5e",
   "metadata": {},
   "outputs": [
    {
     "data": {
      "text/plain": [
       "['lb.pkl']"
      ]
     },
     "execution_count": 11,
     "metadata": {},
     "output_type": "execute_result"
    }
   ],
   "source": [
    "import joblib \n",
    "joblib.dump(lb,\"lb.pkl\")"
   ]
  },
  {
   "cell_type": "code",
   "execution_count": 12,
   "id": "e1afbb12",
   "metadata": {},
   "outputs": [
    {
     "data": {
      "text/plain": [
       "39                    Do you have difficulty breathing?\n",
       "25                                 Does the chest hurt?\n",
       "26    Do you have a sore throat, runny nose and snee...\n",
       "43              Have you lost your appetite and weight?\n",
       "35                   Do you have difficulty to swallow?\n",
       "41               Did you lose your appetite and weight?\n",
       "4                            Do you have any allergies?\n",
       "12                          Is it difficult to swallow?\n",
       "8                               Two weeks and counting.\n",
       "Name: data, dtype: object"
      ]
     },
     "execution_count": 12,
     "metadata": {},
     "output_type": "execute_result"
    }
   ],
   "source": [
    "x_test"
   ]
  },
  {
   "cell_type": "code",
   "execution_count": 13,
   "id": "5d4cc32a",
   "metadata": {},
   "outputs": [],
   "source": [
    "clf  = make_pipeline(CountVectorizer(),TfidfTransformer(),BinaryRelevance(GaussianNB()))\n",
    "#clf  =  joblib.load(\"model.pkl\")"
   ]
  },
  {
   "cell_type": "code",
   "execution_count": 32,
   "id": "aa800875",
   "metadata": {},
   "outputs": [
    {
     "data": {
      "text/plain": [
       "Pipeline(steps=[('countvectorizer', CountVectorizer()),\n",
       "                ('tfidftransformer', TfidfTransformer()),\n",
       "                ('binaryrelevance',\n",
       "                 BinaryRelevance(classifier=GaussianNB(),\n",
       "                                 require_dense=[True, True]))])"
      ]
     },
     "execution_count": 32,
     "metadata": {},
     "output_type": "execute_result"
    }
   ],
   "source": [
    "clf.fit(x_train,Y)"
   ]
  },
  {
   "cell_type": "code",
   "execution_count": 33,
   "id": "1822ee5e",
   "metadata": {},
   "outputs": [
    {
     "data": {
      "text/plain": [
       "0.6666666666666666"
      ]
     },
     "execution_count": 33,
     "metadata": {},
     "output_type": "execute_result"
    }
   ],
   "source": [
    "clf.score(x_test,Y_test)"
   ]
  },
  {
   "cell_type": "code",
   "execution_count": 19,
   "id": "afd0f780",
   "metadata": {},
   "outputs": [
    {
     "data": {
      "text/plain": [
       "['_model_.pkl']"
      ]
     },
     "execution_count": 19,
     "metadata": {},
     "output_type": "execute_result"
    }
   ],
   "source": [
    "joblib.dump(clf,\"_model_.pkl\")"
   ]
  },
  {
   "cell_type": "code",
   "execution_count": 20,
   "id": "e2139fdd",
   "metadata": {},
   "outputs": [
    {
     "data": {
      "text/plain": [
       "[('Chronic Heart Failure', 'Chronic Lung Disease'),\n",
       " ('Chronic Heart Failure', 'Chronic Lung Disease'),\n",
       " ('Viral Bronchitis',),\n",
       " ('Lung Cancer',),\n",
       " ('Chronic Heart Failure', 'Chronic Lung Disease'),\n",
       " ('Lung Cancer',),\n",
       " ('Asthma',),\n",
       " ('Chronic Heart Failure', 'Chronic Lung Disease'),\n",
       " ('Viral Bronchitis',)]"
      ]
     },
     "execution_count": 20,
     "metadata": {},
     "output_type": "execute_result"
    }
   ],
   "source": [
    "lb.inverse_transform(clf.predict(x_test))"
   ]
  },
  {
   "cell_type": "code",
   "execution_count": 21,
   "id": "ece29d12",
   "metadata": {},
   "outputs": [
    {
     "data": {
      "text/plain": [
       "39        [Chronic Heart Failure, Chronic Lung Disease]\n",
       "25        [Chronic Heart Failure, Chronic Lung Disease]\n",
       "26                                   [Viral Bronchitis]\n",
       "43                                        [Lung Cancer]\n",
       "35                                   [Viral Bronchitis]\n",
       "41                                        [Lung Cancer]\n",
       "4                                              [Asthma]\n",
       "12                                   [Viral Bronchitis]\n",
       "8     [Bacterial Pneumonia, Asthma, Chronic Heart Fa...\n",
       "Name: target, dtype: object"
      ]
     },
     "execution_count": 21,
     "metadata": {},
     "output_type": "execute_result"
    }
   ],
   "source": [
    "y_test"
   ]
  },
  {
   "cell_type": "code",
   "execution_count": 22,
   "id": "1edcfdd7",
   "metadata": {},
   "outputs": [],
   "source": [
    "sample  = \"Are you breathing loudly while breathing?\"\n"
   ]
  },
  {
   "cell_type": "code",
   "execution_count": 23,
   "id": "c2819ed3",
   "metadata": {},
   "outputs": [
    {
     "data": {
      "text/plain": [
       "[('Bacterial Pneumonia', 'Viral Bronchitis')]"
      ]
     },
     "execution_count": 23,
     "metadata": {},
     "output_type": "execute_result"
    }
   ],
   "source": [
    "lb.inverse_transform(clf.predict([sample]).toarray())"
   ]
  },
  {
   "cell_type": "markdown",
   "id": "8e119bae",
   "metadata": {},
   "source": [
    "# Model Usage "
   ]
  },
  {
   "cell_type": "code",
   "execution_count": 27,
   "id": "d2dfe553",
   "metadata": {},
   "outputs": [],
   "source": [
    "def make_prediction(sample):\n",
    "    return lb.inverse_transform(clf.predict([sample]).toarray()) # FUNCTION FOR EASE\n",
    "    "
   ]
  },
  {
   "cell_type": "code",
   "execution_count": 28,
   "id": "03489051",
   "metadata": {},
   "outputs": [
    {
     "data": {
      "text/plain": [
       "[('Bacterial Pneumonia', 'Viral Bronchitis')]"
      ]
     },
     "execution_count": 28,
     "metadata": {},
     "output_type": "execute_result"
    }
   ],
   "source": [
    "sample = \"Are you breathing loudly while breathing?\"\n",
    "\n",
    "make_prediction(sample)   # MAKE PREDICTIONS "
   ]
  },
  {
   "cell_type": "code",
   "execution_count": 29,
   "id": "58c89b3f",
   "metadata": {},
   "outputs": [
    {
     "data": {
      "text/plain": [
       "[('Bacterial Pneumonia', 'Chronic Lung Disease')]"
      ]
     },
     "execution_count": 29,
     "metadata": {},
     "output_type": "execute_result"
    }
   ],
   "source": [
    "sample2  = \"Are you coughing up mucus?\"\n",
    "\n",
    "make_prediction(sample2)"
   ]
  },
  {
   "cell_type": "markdown",
   "id": "97518625",
   "metadata": {},
   "source": [
    "## Load And Then USE "
   ]
  },
  {
   "cell_type": "code",
   "execution_count": 34,
   "id": "6324a32d",
   "metadata": {},
   "outputs": [],
   "source": [
    "model = joblib.load(\"_model_.pkl\")\n",
    "lb = joblib.load(\"lb.pkl\")"
   ]
  },
  {
   "cell_type": "code",
   "execution_count": 38,
   "id": "80de2fa7",
   "metadata": {},
   "outputs": [],
   "source": [
    "def make_prediction(sample):\n",
    "    return lb.inverse_transform(model.predict([sample]).toarray()) # FUNCTION FOR EASE\n",
    "\n",
    "#see here i use model.predict instaed of clf.predict "
   ]
  },
  {
   "cell_type": "code",
   "execution_count": 39,
   "id": "b7c8ed27",
   "metadata": {},
   "outputs": [
    {
     "data": {
      "text/plain": [
       "[('Bacterial Pneumonia', 'Viral Bronchitis')]"
      ]
     },
     "execution_count": 39,
     "metadata": {},
     "output_type": "execute_result"
    }
   ],
   "source": [
    "make_prediction(sample)"
   ]
  },
  {
   "cell_type": "code",
   "execution_count": 40,
   "id": "74109f5a",
   "metadata": {},
   "outputs": [
    {
     "data": {
      "text/plain": [
       "[('Bacterial Pneumonia', 'Chronic Lung Disease')]"
      ]
     },
     "execution_count": 40,
     "metadata": {},
     "output_type": "execute_result"
    }
   ],
   "source": [
    "make_prediction(sample2)"
   ]
  },
  {
   "cell_type": "code",
   "execution_count": null,
   "id": "fbe3a157",
   "metadata": {},
   "outputs": [],
   "source": []
  }
 ],
 "metadata": {
  "kernelspec": {
   "display_name": "Python 3 (ipykernel)",
   "language": "python",
   "name": "python3"
  },
  "language_info": {
   "codemirror_mode": {
    "name": "ipython",
    "version": 3
   },
   "file_extension": ".py",
   "mimetype": "text/x-python",
   "name": "python",
   "nbconvert_exporter": "python",
   "pygments_lexer": "ipython3",
   "version": "3.7.9"
  }
 },
 "nbformat": 4,
 "nbformat_minor": 5
}
